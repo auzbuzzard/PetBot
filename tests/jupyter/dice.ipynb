{
 "cells": [
  {
   "cell_type": "code",
   "execution_count": 64,
   "metadata": {},
   "outputs": [],
   "source": [
    "import random\n",
    "import re\n",
    "from enum import Enum\n",
    "\n",
    "import matplotlib.pyplot as plt\n",
    "import numpy as np"
   ]
  },
  {
   "cell_type": "code",
   "execution_count": 29,
   "metadata": {},
   "outputs": [],
   "source": [
    "diceregex = re.compile(r'\\b(\\d+)d(\\d+)\\b')"
   ]
  },
  {
   "cell_type": "code",
   "execution_count": 30,
   "metadata": {},
   "outputs": [],
   "source": [
    "dices = ['3d6', '2d20']"
   ]
  },
  {
   "cell_type": "code",
   "execution_count": 76,
   "metadata": {},
   "outputs": [],
   "source": [
    "class Dice:\n",
    "#     defaults = {6, 20, 4, 8, 10, 12, 100}\n",
    "    \n",
    "    def __init__(self, low: int, high: int, interval: int):\n",
    "        self.range = range(low, high, interval)\n",
    "    \n",
    "    @classmethod\n",
    "    def d(cls, high: int):\n",
    "        if high == 100:\n",
    "            return cls(10, high + 1, 10)\n",
    "        return cls(1, high + 1, 1)\n",
    "        \n",
    "    def roll(self):\n",
    "        return random.choice(self.range)"
   ]
  },
  {
   "cell_type": "code",
   "execution_count": 77,
   "metadata": {},
   "outputs": [
    {
     "data": {
      "text/plain": [
       "[(3, <__main__.Dice at 0x1134519d0>), (2, <__main__.Dice at 0x113451990>)]"
      ]
     },
     "execution_count": 77,
     "metadata": {},
     "output_type": "execute_result"
    }
   ],
   "source": [
    "dices[:] = [diceregex.search(i).groups() for i in test_i]\n",
    "dices[:] = [(int(i[0]), Dice.d(int(i[1]))) for i in dices]\n",
    "dices"
   ]
  },
  {
   "cell_type": "code",
   "execution_count": 78,
   "metadata": {},
   "outputs": [
    {
     "data": {
      "text/plain": [
       "3.50764"
      ]
     },
     "execution_count": 78,
     "metadata": {},
     "output_type": "execute_result"
    },
    {
     "data": {
      "image/png": "[encoded data removed]",
      "text/plain": [
       "<Figure size 432x288 with 1 Axes>"
      ]
     },
     "metadata": {
      "needs_background": "light"
     },
     "output_type": "display_data"
    }
   ],
   "source": [
    "dice = Dice.d(6)\n",
    "test_distrib = [dice.roll() for _ in range(100000)]\n",
    "plt.hist(test_distrib)\n",
    "np.mean(test_distrib)"
   ]
  },
  {
   "cell_type": "code",
   "execution_count": null,
   "metadata": {},
   "outputs": [],
   "source": []
  }
 ],
 "metadata": {
  "kernelspec": {
   "display_name": "Python 3",
   "language": "python",
   "name": "python3"
  },
  "language_info": {
   "codemirror_mode": {
    "name": "ipython",
    "version": 3
   },
   "file_extension": ".py",
   "mimetype": "text/x-python",
   "name": "python",
   "nbconvert_exporter": "python",
   "pygments_lexer": "ipython3",
   "version": "3.7.4"
  }
 },
 "nbformat": 4,
 "nbformat_minor": 2
}
